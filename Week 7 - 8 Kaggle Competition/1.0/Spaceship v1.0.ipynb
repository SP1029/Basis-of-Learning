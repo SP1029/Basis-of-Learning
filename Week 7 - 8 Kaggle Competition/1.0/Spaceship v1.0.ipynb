{
 "cells": [
  {
   "cell_type": "code",
   "execution_count": 1,
   "id": "0c580427",
   "metadata": {},
   "outputs": [],
   "source": [
    "import pandas as pd"
   ]
  },
  {
   "cell_type": "code",
   "execution_count": 2,
   "id": "174f34eb",
   "metadata": {},
   "outputs": [],
   "source": [
    "import numpy as np"
   ]
  },
  {
   "cell_type": "code",
   "execution_count": 3,
   "id": "4c3f248c",
   "metadata": {},
   "outputs": [],
   "source": [
    "def f(x):\n",
    "    x = np.floor(x+0.5)\n",
    "    return x"
   ]
  },
  {
   "cell_type": "code",
   "execution_count": 4,
   "id": "2b04f808",
   "metadata": {},
   "outputs": [
    {
     "data": {
      "text/html": [
       "<div>\n",
       "<style scoped>\n",
       "    .dataframe tbody tr th:only-of-type {\n",
       "        vertical-align: middle;\n",
       "    }\n",
       "\n",
       "    .dataframe tbody tr th {\n",
       "        vertical-align: top;\n",
       "    }\n",
       "\n",
       "    .dataframe thead th {\n",
       "        text-align: right;\n",
       "    }\n",
       "</style>\n",
       "<table border=\"1\" class=\"dataframe\">\n",
       "  <thead>\n",
       "    <tr style=\"text-align: right;\">\n",
       "      <th></th>\n",
       "      <th>CryoSleep</th>\n",
       "      <th>NormalisedAge</th>\n",
       "      <th>VIP</th>\n",
       "      <th>Side</th>\n",
       "      <th>Transported</th>\n",
       "      <th>Unnamed: 5</th>\n",
       "    </tr>\n",
       "  </thead>\n",
       "  <tbody>\n",
       "    <tr>\n",
       "      <th>0</th>\n",
       "      <td>-1.0</td>\n",
       "      <td>0.7</td>\n",
       "      <td>-1.0</td>\n",
       "      <td>1.0</td>\n",
       "      <td>0.0</td>\n",
       "      <td>NaN</td>\n",
       "    </tr>\n",
       "    <tr>\n",
       "      <th>1</th>\n",
       "      <td>-1.0</td>\n",
       "      <td>-0.3</td>\n",
       "      <td>-1.0</td>\n",
       "      <td>-1.0</td>\n",
       "      <td>1.0</td>\n",
       "      <td>NaN</td>\n",
       "    </tr>\n",
       "    <tr>\n",
       "      <th>2</th>\n",
       "      <td>-1.0</td>\n",
       "      <td>2.0</td>\n",
       "      <td>1.0</td>\n",
       "      <td>-1.0</td>\n",
       "      <td>0.0</td>\n",
       "      <td>NaN</td>\n",
       "    </tr>\n",
       "    <tr>\n",
       "      <th>3</th>\n",
       "      <td>-1.0</td>\n",
       "      <td>0.3</td>\n",
       "      <td>-1.0</td>\n",
       "      <td>-1.0</td>\n",
       "      <td>0.0</td>\n",
       "      <td>NaN</td>\n",
       "    </tr>\n",
       "    <tr>\n",
       "      <th>4</th>\n",
       "      <td>-1.0</td>\n",
       "      <td>-0.8</td>\n",
       "      <td>-1.0</td>\n",
       "      <td>-1.0</td>\n",
       "      <td>1.0</td>\n",
       "      <td>NaN</td>\n",
       "    </tr>\n",
       "    <tr>\n",
       "      <th>...</th>\n",
       "      <td>...</td>\n",
       "      <td>...</td>\n",
       "      <td>...</td>\n",
       "      <td>...</td>\n",
       "      <td>...</td>\n",
       "      <td>...</td>\n",
       "    </tr>\n",
       "    <tr>\n",
       "      <th>8689</th>\n",
       "      <td>1.0</td>\n",
       "      <td>-0.7</td>\n",
       "      <td>-1.0</td>\n",
       "      <td>-1.0</td>\n",
       "      <td>0.0</td>\n",
       "      <td>NaN</td>\n",
       "    </tr>\n",
       "    <tr>\n",
       "      <th>8690</th>\n",
       "      <td>-1.0</td>\n",
       "      <td>-0.1</td>\n",
       "      <td>-1.0</td>\n",
       "      <td>-1.0</td>\n",
       "      <td>1.0</td>\n",
       "      <td>NaN</td>\n",
       "    </tr>\n",
       "    <tr>\n",
       "      <th>8691</th>\n",
       "      <td>-1.0</td>\n",
       "      <td>0.3</td>\n",
       "      <td>-1.0</td>\n",
       "      <td>-1.0</td>\n",
       "      <td>0.0</td>\n",
       "      <td>NaN</td>\n",
       "    </tr>\n",
       "    <tr>\n",
       "      <th>8692</th>\n",
       "      <td>-1.0</td>\n",
       "      <td>1.1</td>\n",
       "      <td>-1.0</td>\n",
       "      <td>-1.0</td>\n",
       "      <td>1.0</td>\n",
       "      <td>NaN</td>\n",
       "    </tr>\n",
       "    <tr>\n",
       "      <th>8693</th>\n",
       "      <td>NaN</td>\n",
       "      <td>NaN</td>\n",
       "      <td>NaN</td>\n",
       "      <td>NaN</td>\n",
       "      <td>NaN</td>\n",
       "      <td>NaN</td>\n",
       "    </tr>\n",
       "  </tbody>\n",
       "</table>\n",
       "<p>8694 rows × 6 columns</p>\n",
       "</div>"
      ],
      "text/plain": [
       "      CryoSleep  NormalisedAge  VIP  Side  Transported  Unnamed: 5\n",
       "0          -1.0            0.7 -1.0   1.0          0.0         NaN\n",
       "1          -1.0           -0.3 -1.0  -1.0          1.0         NaN\n",
       "2          -1.0            2.0  1.0  -1.0          0.0         NaN\n",
       "3          -1.0            0.3 -1.0  -1.0          0.0         NaN\n",
       "4          -1.0           -0.8 -1.0  -1.0          1.0         NaN\n",
       "...         ...            ...  ...   ...          ...         ...\n",
       "8689        1.0           -0.7 -1.0  -1.0          0.0         NaN\n",
       "8690       -1.0           -0.1 -1.0  -1.0          1.0         NaN\n",
       "8691       -1.0            0.3 -1.0  -1.0          0.0         NaN\n",
       "8692       -1.0            1.1 -1.0  -1.0          1.0         NaN\n",
       "8693        NaN            NaN  NaN   NaN          NaN         NaN\n",
       "\n",
       "[8694 rows x 6 columns]"
      ]
     },
     "execution_count": 4,
     "metadata": {},
     "output_type": "execute_result"
    }
   ],
   "source": [
    "df = pd.read_csv(\"train_edited_temp.csv\")\n",
    "df"
   ]
  },
  {
   "cell_type": "code",
   "execution_count": 5,
   "id": "fc653085",
   "metadata": {},
   "outputs": [],
   "source": [
    "X = df.loc[0:8000,[\"NormalisedAge\",\"CryoSleep\",\"VIP\",\"Side\"]].to_numpy()\n",
    "Y = df.loc[0:8000,[\"Transported\"]].to_numpy()\n",
    "X1 = df.loc[8001:8692,[\"NormalisedAge\",\"CryoSleep\",\"VIP\",\"Side\"]].to_numpy()\n",
    "Y1 = df.loc[8001:8692,[\"Transported\"]].to_numpy()"
   ]
  },
  {
   "cell_type": "code",
   "execution_count": 6,
   "id": "ec73037d",
   "metadata": {},
   "outputs": [],
   "source": [
    "N = 8693\n",
    "\n",
    "# No of examples"
   ]
  },
  {
   "cell_type": "code",
   "execution_count": 7,
   "id": "010c6b7b",
   "metadata": {},
   "outputs": [],
   "source": [
    "def sigmoid (no):\n",
    "    e = 2.718281828459045\n",
    "    return 1/(1+e**(-no))"
   ]
  },
  {
   "cell_type": "code",
   "execution_count": 8,
   "id": "ae4f0b5b",
   "metadata": {},
   "outputs": [
    {
     "name": "stdout",
     "output_type": "stream",
     "text": [
      "0.5\n"
     ]
    }
   ],
   "source": [
    "print (sigmoid(0))"
   ]
  },
  {
   "cell_type": "code",
   "execution_count": 9,
   "id": "c26767f1",
   "metadata": {},
   "outputs": [],
   "source": [
    "def sigmoid_inv (no):\n",
    "    return np.log(no/(1-no))"
   ]
  },
  {
   "cell_type": "code",
   "execution_count": 13,
   "id": "7596a6b3",
   "metadata": {},
   "outputs": [],
   "source": [
    "N = 8000\n",
    "n1 = 15\n",
    "weights_0 = np.random.rand(4,n1)\n",
    "weights_1 = np.random.rand(n1,1)\n",
    "bias_0 = np.ones([1,n1])\n",
    "bias_1 = 1\n",
    "# last column is coeff b/w ans and first layer\n",
    "# In r th row, cell with column i is the weight from i th input to r th neuron in first layer\n",
    "# Last row for bias"
   ]
  },
  {
   "cell_type": "code",
   "execution_count": 14,
   "id": "190e39e9",
   "metadata": {},
   "outputs": [],
   "source": [
    "alpha = 0.001"
   ]
  },
  {
   "cell_type": "code",
   "execution_count": 29,
   "id": "68bddbf3",
   "metadata": {},
   "outputs": [
    {
     "name": "stdout",
     "output_type": "stream",
     "text": [
      "0.19635901456610327\n",
      "0.1963409918664476\n",
      "0.19632329542876226\n",
      "0.19630591760471328\n",
      "0.19628885094144768\n",
      "0.1962720881763866\n",
      "0.19625562223215567\n",
      "0.19623944621165007\n",
      "0.1962235533932303\n",
      "0.196207937226046\n",
      "0.19619259132548444\n",
      "0.19617750946874038\n",
      "0.19616268559050495\n",
      "0.19614811377876995\n",
      "0.19613378827074485\n",
      "0.19611970344888374\n",
      "0.19610585383701953\n",
      "0.19609223409660234\n",
      "0.19607883902303974\n",
      "0.1960656635421359\n",
      "0.19605270270662753\n",
      "0.19603995169281357\n",
      "0.19602740579727645\n",
      "0.19601506043369263\n",
      "0.19600291112972992\n",
      "0.195990953524029\n",
      "0.19597918336326778\n",
      "0.19596759649930498\n",
      "0.1959561888864025\n",
      "0.19594495657852293\n",
      "0.19593389572670114\n",
      "0.19592300257648776\n",
      "0.1959122734654622\n",
      "0.19590170482081387\n",
      "0.19589129315698928\n",
      "0.19588103507340363\n",
      "0.19587092725221497\n",
      "0.1958609664561589\n",
      "0.19585114952644272\n",
      "0.19584147338069688\n",
      "0.1958319350109826\n",
      "0.19582253148185383\n",
      "0.19581325992847184\n",
      "0.1958041175547718\n",
      "0.19579510163167885\n",
      "0.19578620949537287\n",
      "0.19577743854560112\n",
      "0.19576878624403588\n",
      "0.19576025011267764\n",
      "0.19575182773230132\n",
      "0.19574351674094453\n",
      "0.19573531483243767\n",
      "0.19572721975497295\n",
      "0.19571922930971294\n",
      "0.19571134134943652\n",
      "0.19570355377722165\n",
      "0.1956958645451636\n",
      "0.19568827165312805\n",
      "0.19568077314753768\n",
      "0.1956733671201916\n",
      "0.19566605170711662\n",
      "0.19565882508744936\n",
      "0.19565168548234851\n",
      "0.19564463115393638\n",
      "0.19563766040426872\n",
      "0.19563077157433223\n",
      "0.19562396304306887\n",
      "0.19561723322642652\n",
      "0.19561058057643468\n",
      "0.19560400358030489\n",
      "0.19559750075955548\n",
      "0.19559107066915907\n",
      "0.1955847118967132\n",
      "0.19557842306163278\n",
      "0.19557220281436397\n",
      "0.19556604983561882\n",
      "0.19555996283563054\n",
      "0.19555394055342762\n",
      "0.1955479817561281\n",
      "0.19554208523825167\n",
      "0.19553624982105028\n",
      "0.19553047435185603\n",
      "0.19552475770344643\n",
      "0.19551909877342616\n",
      "0.19551349648362504\n",
      "0.19550794977951153\n",
      "0.19550245762962204\n",
      "0.19549701902500422\n",
      "0.19549163297867575\n",
      "0.19548629852509627\n",
      "0.19548101471965385\n",
      "0.1954757806381636\n",
      "0.1954705953763806\n",
      "0.19546545804952434\n",
      "0.19546036779181583\n",
      "0.19545532375602662\n",
      "0.19545032511303925\n",
      "0.19544537105141901\n",
      "0.1954404607769968\n",
      "0.19543559351246254\n",
      "0.19543076849696867\n",
      "0.1954259849857442\n",
      "0.19542124224971852\n",
      "0.19541653957515423\n",
      "0.19541187626328987\n",
      "0.19540725162999148\n",
      "0.1954026650054128\n",
      "0.19539811573366417\n",
      "0.19539360317248966\n",
      "0.1953891266929527\n",
      "0.19538468567912884\n",
      "0.19538027952780704\n",
      "0.1953759076481975\n",
      "0.19537156946164785\n",
      "0.19536726440136534\n",
      "0.1953629919121467\n",
      "0.19535875145011436\n",
      "0.1953545424824591\n",
      "0.19535036448718945\n",
      "0.1953462169528869\n",
      "0.19534209937846708\n"
     ]
    },
    {
     "ename": "KeyboardInterrupt",
     "evalue": "",
     "output_type": "error",
     "traceback": [
      "\u001b[1;31m---------------------------------------------------------------------------\u001b[0m",
      "\u001b[1;31mKeyboardInterrupt\u001b[0m                         Traceback (most recent call last)",
      "Input \u001b[1;32mIn [29]\u001b[0m, in \u001b[0;36m<cell line: 3>\u001b[1;34m()\u001b[0m\n\u001b[0;32m      1\u001b[0m a \u001b[38;5;241m=\u001b[39m \u001b[38;5;241m0\u001b[39m\n\u001b[0;32m      3\u001b[0m \u001b[38;5;28;01mwhile\u001b[39;00m a \u001b[38;5;241m>\u001b[39m \u001b[38;5;241m-\u001b[39m\u001b[38;5;241m10\u001b[39m:\n\u001b[0;32m      4\u001b[0m       \n\u001b[0;32m      5\u001b[0m     \u001b[38;5;66;03m# data -> 1st Layer -> Final\u001b[39;00m\n\u001b[1;32m----> 7\u001b[0m     answer_1 \u001b[38;5;241m=\u001b[39m \u001b[43msigmoid\u001b[49m\u001b[43m(\u001b[49m\u001b[43mnp\u001b[49m\u001b[38;5;241;43m.\u001b[39;49m\u001b[43mdot\u001b[49m\u001b[43m(\u001b[49m\u001b[43mX\u001b[49m\u001b[43m,\u001b[49m\u001b[43mweights_0\u001b[49m\u001b[43m)\u001b[49m\u001b[43m \u001b[49m\u001b[38;5;241;43m+\u001b[39;49m\u001b[43m \u001b[49m\u001b[43mbias_0\u001b[49m\u001b[43m)\u001b[49m\n\u001b[0;32m      8\u001b[0m     answer_2 \u001b[38;5;241m=\u001b[39m sigmoid(np\u001b[38;5;241m.\u001b[39mdot(answer_1,weights_1) \u001b[38;5;241m+\u001b[39m bias_1)\n\u001b[0;32m     10\u001b[0m     \u001b[38;5;66;03m# Cost Function\u001b[39;00m\n",
      "Input \u001b[1;32mIn [7]\u001b[0m, in \u001b[0;36msigmoid\u001b[1;34m(no)\u001b[0m\n\u001b[0;32m      1\u001b[0m \u001b[38;5;28;01mdef\u001b[39;00m \u001b[38;5;21msigmoid\u001b[39m (no):\n\u001b[0;32m      2\u001b[0m     e \u001b[38;5;241m=\u001b[39m \u001b[38;5;241m2.718281828459045\u001b[39m\n\u001b[1;32m----> 3\u001b[0m     \u001b[38;5;28;01mreturn\u001b[39;00m \u001b[38;5;241m1\u001b[39m\u001b[38;5;241m/\u001b[39m(\u001b[38;5;241m1\u001b[39m\u001b[38;5;241m+\u001b[39m\u001b[43me\u001b[49m\u001b[38;5;241;43m*\u001b[39;49m\u001b[38;5;241;43m*\u001b[39;49m\u001b[43m(\u001b[49m\u001b[38;5;241;43m-\u001b[39;49m\u001b[43mno\u001b[49m\u001b[43m)\u001b[49m)\n",
      "\u001b[1;31mKeyboardInterrupt\u001b[0m: "
     ]
    }
   ],
   "source": [
    "a = 0\n",
    "\n",
    "while a > -10:\n",
    "      \n",
    "    # data -> 1st Layer -> Final\n",
    "    \n",
    "    answer_1 = sigmoid(np.dot(X,weights_0) + bias_0)\n",
    "    answer_2 = sigmoid(np.dot(answer_1,weights_1) + bias_1)\n",
    "\n",
    "    # Cost Function\n",
    "    \n",
    "    Cost = np.sum((answer_2 - Y) ** 2) * 1 / N\n",
    "    if a%500 == 0:\n",
    "        print(Cost)\n",
    "\n",
    "    # Update\n",
    "    \n",
    "    weights_1 = weights_1 - alpha * 1/N * np.dot(np.transpose(answer_1),2 * (answer_2 - Y) * answer_2 * (1 - answer_2))\n",
    "    bias_1 = bias_1 - alpha * 1/N * np.dot(np.transpose(2 * (answer_2 - Y)),answer_2 * (1 - answer_2))\n",
    "    weights_0 = weights_0 - alpha * 1/N * np.dot(np.transpose(X),2 * (answer_2 - Y) * answer_2 * (1 - answer_2) * (np.transpose(weights_1) * answer_1) * (1 - answer_1))\n",
    "    bias_0 = bias_0 - alpha * 1/N * np.transpose(np.reshape(np.sum(2 * (answer_2 - Y) * answer_2 * (1 - answer_2) * (np.transpose(weights_1) * answer_1 * (1 - answer_1)),axis=0),[n1,1]))\n",
    "     \n",
    "    a = a + 1"
   ]
  },
  {
   "cell_type": "code",
   "execution_count": 30,
   "id": "5aa1025e",
   "metadata": {},
   "outputs": [
    {
     "name": "stdout",
     "output_type": "stream",
     "text": [
      "29.08386451693538\n"
     ]
    }
   ],
   "source": [
    "print(np.average(abs((f(answer_2) - Y)*100)))"
   ]
  },
  {
   "cell_type": "code",
   "execution_count": 31,
   "id": "addb795f",
   "metadata": {},
   "outputs": [
    {
     "name": "stdout",
     "output_type": "stream",
     "text": [
      "27.45664739884393\n"
     ]
    }
   ],
   "source": [
    "# Testing\n",
    "\n",
    "# Calculate\n",
    "\n",
    "answer1 = sigmoid(np.dot(X1,weights_0) + bias_0)\n",
    "answer2 = sigmoid(np.dot(answer1,weights_1) + bias_1)\n",
    "\n",
    "# Final\n",
    "\n",
    "answer = answer2\n",
    "# print (answer)\n",
    "# print (Y1)\n",
    "print(np.average(abs((f(answer2) - Y1)*100)))"
   ]
  },
  {
   "cell_type": "code",
   "execution_count": 48,
   "id": "00026721",
   "metadata": {},
   "outputs": [
    {
     "name": "stdout",
     "output_type": "stream",
     "text": [
      "      CryoSleep  Side  NormalisedAge  VIP\n",
      "0             1     1      -0.066667   -1\n",
      "1            -1     1      -0.600000   -1\n",
      "2             1     1       0.200000   -1\n",
      "3            -1     1       0.666667   -1\n",
      "4            -1     1      -0.533333   -1\n",
      "...         ...   ...            ...  ...\n",
      "4272          1     1       0.400000   -1\n",
      "4273         -1     0       0.933333   -1\n",
      "4274          1    -1      -1.866667   -1\n",
      "4275         -1    -1      -1.866667   -1\n",
      "4276          1     1       1.000000   -1\n",
      "\n",
      "[4277 rows x 4 columns]\n",
      "(4277, 4)\n",
      "(4277, 1)\n"
     ]
    }
   ],
   "source": [
    "# Prediction\n",
    "df1 = pd.read_csv(\"test_temp_edited.csv\")\n",
    "print(df1)\n",
    "X2 = df1.loc[:,[\"NormalisedAge\",\"CryoSleep\",\"VIP\",\"Side\"]].to_numpy()\n",
    "print(np.shape(X2))\n",
    "ans1 = sigmoid(np.dot(X2,weights_0) + bias_0)\n",
    "ans2 = sigmoid(np.dot(ans1,weights_1) + bias_1)\n",
    "ans3 = f(ans2)\n",
    "print(np.shape(ans3))\n",
    "np.savetxt(\"Submission1.csv\", ans3, delimiter=\",\")"
   ]
  },
  {
   "cell_type": "code",
   "execution_count": null,
   "id": "f453f52f",
   "metadata": {},
   "outputs": [],
   "source": []
  }
 ],
 "metadata": {
  "kernelspec": {
   "display_name": "Python 3 (ipykernel)",
   "language": "python",
   "name": "python3"
  },
  "language_info": {
   "codemirror_mode": {
    "name": "ipython",
    "version": 3
   },
   "file_extension": ".py",
   "mimetype": "text/x-python",
   "name": "python",
   "nbconvert_exporter": "python",
   "pygments_lexer": "ipython3",
   "version": "3.9.12"
  }
 },
 "nbformat": 4,
 "nbformat_minor": 5
}
