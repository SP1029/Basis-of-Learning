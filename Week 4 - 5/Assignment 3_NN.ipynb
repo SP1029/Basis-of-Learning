{
 "cells": [
  {
   "cell_type": "code",
   "execution_count": 1,
   "id": "0c580427",
   "metadata": {},
   "outputs": [],
   "source": [
    "import pandas as pd"
   ]
  },
  {
   "cell_type": "code",
   "execution_count": 2,
   "id": "174f34eb",
   "metadata": {},
   "outputs": [],
   "source": [
    "import numpy as np"
   ]
  },
  {
   "cell_type": "code",
   "execution_count": 3,
   "id": "89911d3c",
   "metadata": {},
   "outputs": [],
   "source": [
    "df = pd.read_excel(\"Assignment 3_NN.xlsx\", sheet_name=\"Sheet1\")"
   ]
  },
  {
   "cell_type": "code",
   "execution_count": 4,
   "id": "fc653085",
   "metadata": {},
   "outputs": [],
   "source": [
    "X = df.loc[:,[\"Data 1\",\"Data 2\",\"Data 3\",\"Data 4\"]].to_numpy()\n",
    "Y = df.loc[:,[\"Expected\"]].to_numpy()"
   ]
  },
  {
   "cell_type": "code",
   "execution_count": 5,
   "id": "5724d49e",
   "metadata": {},
   "outputs": [],
   "source": [
    "def sigmoid (no):\n",
    "    e = 2.718281828459045\n",
    "    return 1/(1+e**(-no))"
   ]
  },
  {
   "cell_type": "code",
   "execution_count": 6,
   "id": "010c6b7b",
   "metadata": {},
   "outputs": [],
   "source": [
    "def activ (no):\n",
    "    e = 2.718281828459045\n",
    "    return 1/(1+e**(-no))"
   ]
  },
  {
   "cell_type": "code",
   "execution_count": 7,
   "id": "8983dcab",
   "metadata": {},
   "outputs": [],
   "source": [
    "def derv (no):\n",
    "    return no * ( 1 - no )"
   ]
  },
  {
   "cell_type": "code",
   "execution_count": 8,
   "id": "ae4f0b5b",
   "metadata": {},
   "outputs": [
    {
     "name": "stdout",
     "output_type": "stream",
     "text": [
      "0.5\n"
     ]
    }
   ],
   "source": [
    "print (activ(0))"
   ]
  },
  {
   "cell_type": "code",
   "execution_count": 9,
   "id": "c26767f1",
   "metadata": {},
   "outputs": [],
   "source": [
    "def sigmoid_inv (no):\n",
    "    return np.log(no/(1-no))"
   ]
  },
  {
   "cell_type": "code",
   "execution_count": 10,
   "id": "7596a6b3",
   "metadata": {},
   "outputs": [],
   "source": [
    "N = 1000\n",
    "n0 = 4\n",
    "n1 = 10\n",
    "n2 = 8\n",
    "n3 = 7\n",
    "n4 = 6\n",
    "n5 = 5\n",
    "n6 = 1\n",
    "w_0 = np.random.rand(n0,n1) - 0.5\n",
    "w_1 = np.random.rand(n1,n2) - 0.5\n",
    "w_2 = np.random.rand(n2,n3) - 0.5\n",
    "w_3 = np.random.rand(n3,n4) - 0.5\n",
    "w_4 = np.random.rand(n4,n5) - 0.5\n",
    "w_5 = np.random.rand(n5,n6) - 0.5\n",
    "b_0 = np.random.rand(1,n1) - 0.5\n",
    "b_1 = np.random.rand(1,n2) - 0.5\n",
    "b_2 = np.random.rand(1,n3) - 0.5\n",
    "b_3 = np.random.rand(1,n4) - 0.5\n",
    "b_4 = np.random.rand(1,n5) - 0.5\n",
    "b_5 = np.random.rand(1,n6) - 0.5\n",
    "\n",
    "# last column is coeff b/w ans and first layer\n",
    "# In r th row, cell with column i is the weight from i th input to r th neuron in first layer\n",
    "# Last row for bias"
   ]
  },
  {
   "cell_type": "code",
   "execution_count": 11,
   "id": "7abdec6b",
   "metadata": {},
   "outputs": [
    {
     "name": "stdout",
     "output_type": "stream",
     "text": [
      "(1, 10)\n"
     ]
    }
   ],
   "source": [
    "print (np.shape(b_0))"
   ]
  },
  {
   "cell_type": "code",
   "execution_count": 12,
   "id": "190e39e9",
   "metadata": {},
   "outputs": [],
   "source": [
    "alpha = 0.0001"
   ]
  },
  {
   "cell_type": "code",
   "execution_count": 13,
   "id": "68bddbf3",
   "metadata": {},
   "outputs": [
    {
     "name": "stdout",
     "output_type": "stream",
     "text": [
      "0.031996180897015024\n",
      "0.0020952641892091023\n",
      "0.0009967819880299866\n",
      "0.0009043205511511231\n",
      "0.0008484308050670834\n",
      "0.000809710132882384\n",
      "0.0007806923193358215\n",
      "0.0007575516218755201\n",
      "0.0007381577119284578\n",
      "0.000721267802729655\n",
      "0.0007061396706751495\n",
      "0.0006923165922146705\n",
      "0.0006795003533196398\n",
      "0.0006674798620894534\n",
      "0.0006560966419970866\n",
      "0.0006452324199978398\n",
      "0.0006348066248731372\n",
      "0.0006247753000540069\n",
      "0.0006151272856846382\n",
      "0.0006058770659498607\n"
     ]
    }
   ],
   "source": [
    "a = 0\n",
    "\n",
    "while a < 100000:\n",
    "      \n",
    "    # data -> 1st Layer -> Final\n",
    "    \n",
    "    z_1 = np.dot( X , w_0 ) + b_0\n",
    "    a_1 = activ( z_1 )\n",
    "    z_2 = np.dot( a_1 , w_1 ) + b_1\n",
    "    a_2 = activ( z_2 )\n",
    "    z_3 = np.dot( a_2 , w_2 ) + b_2\n",
    "    a_3 = activ( z_3 )\n",
    "    z_4 = np.dot( a_3 , w_3 ) + b_3\n",
    "    a_4 = activ( z_4 )\n",
    "    z_5 = np.dot( a_4 , w_4 ) + b_4\n",
    "    a_5 = activ( z_5 )\n",
    "    z_6 = np.dot( a_5 , w_5 ) + b_5\n",
    "    a_6 = activ( z_6 )\n",
    "    \n",
    "    \n",
    "    if a%5000 == 0:\n",
    "        \n",
    "    # Cost Function\n",
    "    \n",
    "        Cost = np.sum((a_6 - sigmoid(Y)) ** 2) * 1 / N\n",
    "\n",
    "        print(Cost)\n",
    "\n",
    "    # Update\n",
    "    \n",
    "    da_6 = 2 * ( a_6 - sigmoid(Y) )\n",
    "    dz_6 = derv( a_6 ) * da_6\n",
    "    dw_5 = np.dot( np.transpose(a_5) , dz_6 )\n",
    "    db_5 = np.sum( dz_6 , keepdims = True)\n",
    "    \n",
    "    da_5 = 2 * ( a_5 - sigmoid(Y) )\n",
    "    dz_5 = derv( a_5 ) * da_5\n",
    "    dw_4 = np.dot( np.transpose(a_4) , dz_5 )\n",
    "    db_4 = np.sum( dz_5 , keepdims = True)\n",
    "    \n",
    "    da_4 = 2 * ( a_4 - sigmoid(Y) )\n",
    "    dz_4 = derv( a_4) * da_4\n",
    "    dw_3 = np.dot( np.transpose(a_3) , dz_4 )\n",
    "    db_3 = np.sum( dz_4 , keepdims = True)\n",
    "    \n",
    "    da_3 = 2 * ( a_3 - sigmoid(Y) )\n",
    "    dz_3 = derv( a_3 ) * da_3\n",
    "    dw_2 = np.dot( np.transpose(a_2) , dz_3 )\n",
    "    db_2 = np.sum( dz_3 , keepdims = True)\n",
    "    \n",
    "    da_2 = np.dot( dz_3 , np.transpose(w_2) )\n",
    "    dz_2 = derv( a_2 ) * da_2\n",
    "    dw_1 = np.dot( np.transpose(a_1) , dz_2 )\n",
    "    db_1 = np.sum( dz_2 , keepdims = True)\n",
    "    \n",
    "    da_1 = np.dot( dz_2 , np.transpose(w_1) )\n",
    "    dz_1 = derv( a_1 ) * da_1\n",
    "    dw_0 = np.dot( np.transpose(X) , dz_1 )\n",
    "    db_0 = np.sum( dz_1 , keepdims = True)\n",
    "    \n",
    "    w_0 = w_0 - alpha * dw_0\n",
    "    w_1 = w_1 - alpha * dw_1\n",
    "    w_2 = w_2 - alpha * dw_2\n",
    "    w_3 = w_3 - alpha * dw_3\n",
    "    w_4 = w_4 - alpha * dw_4\n",
    "    w_5 = w_5 - alpha * dw_5\n",
    "    \n",
    "    b_0 = b_0 - alpha * db_0\n",
    "    b_1 = b_1 - alpha * db_1\n",
    "    b_2 = b_2 - alpha * db_2    \n",
    "    b_3 = b_3 - alpha * db_3\n",
    "    b_4 = b_4 - alpha * db_4\n",
    "    b_5 = b_5 - alpha * db_5\n",
    "    \n",
    "    # Iteration\n",
    "    \n",
    "    a = a + 1"
   ]
  },
  {
   "cell_type": "code",
   "execution_count": 14,
   "id": "5aa1025e",
   "metadata": {},
   "outputs": [
    {
     "name": "stdout",
     "output_type": "stream",
     "text": [
      "8.374785735028418\n"
     ]
    }
   ],
   "source": [
    "print(np.average(abs((sigmoid_inv(a_3) - Y)/Y*100)))"
   ]
  },
  {
   "cell_type": "code",
   "execution_count": 15,
   "id": "addb795f",
   "metadata": {},
   "outputs": [
    {
     "name": "stdout",
     "output_type": "stream",
     "text": [
      "[[ 0.37866399]\n",
      " [-0.74227334]\n",
      " [-0.20643864]\n",
      " [ 0.05561214]\n",
      " [ 0.73632753]\n",
      " [ 1.17060611]\n",
      " [ 0.70969786]\n",
      " [ 0.65970204]\n",
      " [-0.2283703 ]\n",
      " [-0.65571914]]\n",
      "[[ 0.29424483]\n",
      " [-0.65086148]\n",
      " [-0.16298483]\n",
      " [ 0.04135336]\n",
      " [ 0.62474172]\n",
      " [ 1.32089463]\n",
      " [ 0.60219668]\n",
      " [ 0.54992781]\n",
      " [-0.17736305]\n",
      " [-0.56137392]]\n",
      "19.37376625574507\n"
     ]
    }
   ],
   "source": [
    "# Testing\n",
    "\n",
    "# Data\n",
    "\n",
    "df5 = pd.read_excel(\"Assignment 3_NN.xlsx\", sheet_name=\"Sheet2\")\n",
    "X1 = df5.loc[:,[\"Data 1\",\"Data 2\",\"Data 3\",\"Data 4\"]].to_numpy()\n",
    "Y1 = df5.loc[:,[\"Expected\"]].to_numpy()\n",
    "\n",
    "# # Optimise\n",
    "\n",
    "# max1 = max( max(abs(df5[\"Data 1\"])) , max(abs(df5[\"Data 2\"])) , max(abs(df5[\"Data 3\"])) , max(abs(df5[\"Data 4\"])) )\n",
    "# scaler = 1\n",
    "# df5 = df5 / scaler\n",
    "\n",
    "\n",
    "# Calculate\n",
    "\n",
    "answer1 = sigmoid(np.dot(X1,w_0) + b_0)\n",
    "answer2 = sigmoid(np.dot(answer1,w_1) + b_1)\n",
    "answer3 = sigmoid(np.dot(answer2,w_2) + b_2)\n",
    "answer4 = sigmoid(np.dot(answer3,w_3) + b_3)\n",
    "answer5 = sigmoid(np.dot(answer4,w_4) + b_4)\n",
    "answer6 = sigmoid(np.dot(answer5,w_5) + b_5)\n",
    "\n",
    "# Final\n",
    "\n",
    "answer = sigmoid_inv(answer6)\n",
    "print (answer)\n",
    "print (Y1)\n",
    "print (np.average(((answer - Y1)/Y1*100)))"
   ]
  },
  {
   "cell_type": "code",
   "execution_count": null,
   "id": "1d8a2748",
   "metadata": {},
   "outputs": [],
   "source": []
  },
  {
   "cell_type": "code",
   "execution_count": null,
   "id": "e85fa486",
   "metadata": {},
   "outputs": [],
   "source": []
  }
 ],
 "metadata": {
  "kernelspec": {
   "display_name": "Python 3 (ipykernel)",
   "language": "python",
   "name": "python3"
  },
  "language_info": {
   "codemirror_mode": {
    "name": "ipython",
    "version": 3
   },
   "file_extension": ".py",
   "mimetype": "text/x-python",
   "name": "python",
   "nbconvert_exporter": "python",
   "pygments_lexer": "ipython3",
   "version": "3.9.12"
  }
 },
 "nbformat": 4,
 "nbformat_minor": 5
}
